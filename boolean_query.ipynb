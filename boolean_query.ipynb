{
  "nbformat": 4,
  "nbformat_minor": 0,
  "metadata": {
    "colab": {
      "provenance": []
    },
    "kernelspec": {
      "name": "python3",
      "display_name": "Python 3"
    },
    "language_info": {
      "name": "python"
    }
  },
  "cells": [
    {
      "cell_type": "markdown",
      "source": [
        "#**Implementing a simple information retrieval model in Python that are capable of processing boolean queries**"
      ],
      "metadata": {
        "id": "HOLmXHCCq9UO"
      }
    },
    {
      "cell_type": "markdown",
      "source": [
        "**Importing Necessary Libraries**"
      ],
      "metadata": {
        "id": "MjLZY5ptHA3h"
      }
    },
    {
      "cell_type": "code",
      "execution_count": 13,
      "metadata": {
        "id": "5KxrPMjOGsj2"
      },
      "outputs": [],
      "source": [
        "import nltk\n",
        "from nltk.corpus import stopwords\n",
        "from nltk.stem import WordNetLemmatizer, PorterStemmer\n",
        "from nltk.tokenize import sent_tokenize , word_tokenize\n",
        "import glob\n",
        "import re\n",
        "import os\n",
        "import numpy as np\n",
        "import sys"
      ]
    },
    {
      "cell_type": "code",
      "source": [
        "import nltk\n",
        "nltk.download('stopwords')\n",
        "from nltk.corpus import stopwords\n",
        "Stopwords = set(stopwords.words('english'))"
      ],
      "metadata": {
        "colab": {
          "base_uri": "https://localhost:8080/"
        },
        "id": "VyhLoiKhHG3_",
        "outputId": "8e0c2a63-3a2c-4541-d62f-7e4e4674528b"
      },
      "execution_count": 14,
      "outputs": [
        {
          "output_type": "stream",
          "name": "stderr",
          "text": [
            "[nltk_data] Downloading package stopwords to /root/nltk_data...\n",
            "[nltk_data]   Package stopwords is already up-to-date!\n"
          ]
        }
      ]
    },
    {
      "cell_type": "markdown",
      "source": [
        "**Implementing helper functions**"
      ],
      "metadata": {
        "id": "TmQprnpdmLwv"
      }
    },
    {
      "cell_type": "code",
      "source": [
        "def finding_all_unique_words_and_freq(words):\n",
        "    words_unique = []\n",
        "    word_freq = {}\n",
        "    for word in words:\n",
        "        if word not in words_unique:\n",
        "            words_unique.append(word)\n",
        "    for word in words_unique:\n",
        "        word_freq[word] = words.count(word)\n",
        "    return word_freq\n",
        "def finding_freq_of_word_in_doc(word,words):\n",
        "    freq = words.count(word)\n",
        "        \n",
        "def remove_special_characters(text):\n",
        "    regex = re.compile('[^a-zA-Z0-9\\s]')\n",
        "    text_returned = re.sub(regex,'',text)\n",
        "    return text_returned"
      ],
      "metadata": {
        "id": "jN1gpbpalFX9"
      },
      "execution_count": 15,
      "outputs": []
    },
    {
      "cell_type": "markdown",
      "source": [
        "**Defining the linked list**"
      ],
      "metadata": {
        "id": "z12TZelXoQqn"
      }
    },
    {
      "cell_type": "code",
      "source": [
        "class Node:\n",
        "    def __init__(self ,docId, freq = None):\n",
        "        self.freq = freq\n",
        "        self.doc = docId\n",
        "        self.nextval = None\n",
        "    \n",
        "class SlinkedList:\n",
        "    def __init__(self ,head = None):\n",
        "        self.head = head"
      ],
      "metadata": {
        "id": "1fLDzYAfoP3G"
      },
      "execution_count": 16,
      "outputs": []
    },
    {
      "cell_type": "markdown",
      "source": [
        "**Finding the set of unique words from all documents of the data set**"
      ],
      "metadata": {
        "id": "o1g-HjVTmaGT"
      }
    },
    {
      "cell_type": "code",
      "source": [
        "import nltk\n",
        "nltk.download('punkt')"
      ],
      "metadata": {
        "colab": {
          "base_uri": "https://localhost:8080/"
        },
        "id": "cEcAiX2npAnh",
        "outputId": "9e9d6aab-aa21-4f30-912e-c2b6b6167080"
      },
      "execution_count": 18,
      "outputs": [
        {
          "output_type": "stream",
          "name": "stderr",
          "text": [
            "[nltk_data] Downloading package punkt to /root/nltk_data...\n",
            "[nltk_data]   Unzipping tokenizers/punkt.zip.\n"
          ]
        },
        {
          "output_type": "execute_result",
          "data": {
            "text/plain": [
              "True"
            ]
          },
          "metadata": {},
          "execution_count": 18
        }
      ]
    },
    {
      "cell_type": "code",
      "source": [
        "all_words = []\n",
        "dict_global = {}\n",
        "file_folder = '/content/drive/MyDrive/Greuze/*'\n",
        "idx = 1\n",
        "files_with_index = {}\n",
        "for file in glob.glob(file_folder):\n",
        "    print(file)\n",
        "    fname = file\n",
        "    file = open(file , \"r\")\n",
        "    text = file.read()\n",
        "    text = remove_special_characters(text)\n",
        "    text = re.sub(re.compile('\\d'),'',text)\n",
        "    sentences = sent_tokenize(text)\n",
        "    words = word_tokenize(text)\n",
        "    words = [word for word in words if len(words)>1]\n",
        "    words = [word.lower() for word in words]\n",
        "    words = [word for word in words if word not in Stopwords]\n",
        "    dict_global.update(finding_all_unique_words_and_freq(words))\n",
        "    files_with_index[idx] = os.path.basename(fname)\n",
        "    idx = idx + 1\n",
        "    \n",
        "unique_words_all = set(dict_global.keys())"
      ],
      "metadata": {
        "colab": {
          "base_uri": "https://localhost:8080/"
        },
        "id": "3_hWbpstlJbb",
        "outputId": "45745f54-e40c-4153-a4ba-722ca35c128d"
      },
      "execution_count": 19,
      "outputs": [
        {
          "output_type": "stream",
          "name": "stdout",
          "text": [
            "/content/drive/MyDrive/Greuze/Greuze1.txt\n",
            "/content/drive/MyDrive/Greuze/Greuze2.txt\n",
            "/content/drive/MyDrive/Greuze/Greuze3.txt\n"
          ]
        }
      ]
    },
    {
      "cell_type": "markdown",
      "source": [
        "**Making a linkedlist for each word and storing all the nodes (containing the file name and frequency of the respective word ) in the linkedlist.**"
      ],
      "metadata": {
        "id": "6NSCJjLTnPc6"
      }
    },
    {
      "cell_type": "code",
      "source": [
        "linked_list_data = {}\n",
        "for word in unique_words_all:\n",
        "    linked_list_data[word] = SlinkedList()\n",
        "    linked_list_data[word].head = Node(1,Node)\n",
        "word_freq_in_doc = {}\n",
        "idx = 1\n",
        "for file in glob.glob(file_folder):\n",
        "    file = open(file, \"r\")\n",
        "    text = file.read()\n",
        "    text = remove_special_characters(text)\n",
        "    text = re.sub(re.compile('\\d'),'',text)\n",
        "    sentences = sent_tokenize(text)\n",
        "    words = word_tokenize(text)\n",
        "    words = [word for word in words if len(words)>1]\n",
        "    words = [word.lower() for word in words]\n",
        "    words = [word for word in words if word not in Stopwords]\n",
        "    word_freq_in_doc = finding_all_unique_words_and_freq(words)\n",
        "    for word in word_freq_in_doc.keys():\n",
        "        linked_list = linked_list_data[word].head\n",
        "        while linked_list.nextval is not None:\n",
        "            linked_list = linked_list.nextval\n",
        "        linked_list.nextval = Node(idx ,word_freq_in_doc[word])\n",
        "    idx = idx + 1"
      ],
      "metadata": {
        "id": "SK9fVi_hnBOI"
      },
      "execution_count": 20,
      "outputs": []
    },
    {
      "cell_type": "markdown",
      "source": [
        "**Query processing and output generation**"
      ],
      "metadata": {
        "id": "Zj6PTUtLndt7"
      }
    },
    {
      "cell_type": "code",
      "source": [
        "query = input('Enter your query:')\n",
        "query = word_tokenize(query)\n",
        "connecting_words = []\n",
        "cnt = 1\n",
        "different_words = []\n",
        "for word in query:\n",
        "    if word.lower() != \"and\" and word.lower() != \"or\" and word.lower() != \"not\":\n",
        "        different_words.append(word.lower())\n",
        "    else:\n",
        "        connecting_words.append(word.lower())\n",
        "print(connecting_words)\n",
        "total_files = len(files_with_index)\n",
        "zeroes_and_ones = []\n",
        "zeroes_and_ones_of_all_words = []\n",
        "for word in (different_words):\n",
        "    if word.lower() in unique_words_all:\n",
        "        zeroes_and_ones = [0] * total_files\n",
        "        linkedlist = linked_list_data[word].head\n",
        "        print(word)\n",
        "        while linkedlist.nextval is not None:\n",
        "            zeroes_and_ones[linkedlist.nextval.doc - 1] = 1\n",
        "            linkedlist = linkedlist.nextval\n",
        "        zeroes_and_ones_of_all_words.append(zeroes_and_ones)\n",
        "    else:\n",
        "        print(word,\" not found\")\n",
        "        sys.exit()\n",
        "print(zeroes_and_ones_of_all_words)\n",
        "for word in connecting_words:\n",
        "    word_list1 = zeroes_and_ones_of_all_words[0]\n",
        "    word_list2 = zeroes_and_ones_of_all_words[1]\n",
        "    if word == \"and\":\n",
        "        bitwise_op = [w1 & w2 for (w1,w2) in zip(word_list1,word_list2)]\n",
        "        zeroes_and_ones_of_all_words.remove(word_list1)\n",
        "        zeroes_and_ones_of_all_words.remove(word_list2)\n",
        "        zeroes_and_ones_of_all_words.insert(0, bitwise_op);\n",
        "    elif word == \"or\":\n",
        "        bitwise_op = [w1 | w2 for (w1,w2) in zip(word_list1,word_list2)]\n",
        "        zeroes_and_ones_of_all_words.remove(word_list1)\n",
        "        zeroes_and_ones_of_all_words.remove(word_list2)\n",
        "        zeroes_and_ones_of_all_words.insert(0, bitwise_op);\n",
        "    elif word == \"not\":\n",
        "        bitwise_op = [not w1 for w1 in word_list2]\n",
        "        bitwise_op = [int(b == True) for b in bitwise_op]\n",
        "        zeroes_and_ones_of_all_words.remove(word_list2)\n",
        "        zeroes_and_ones_of_all_words.remove(word_list1)\n",
        "        bitwise_op = [w1 & w2 for (w1,w2) in zip(word_list1,bitwise_op)];zeroes_and_ones_of_all_words.insert(0, bitwise_op);\n",
        "        \n",
        "files = []    \n",
        "print(zeroes_and_ones_of_all_words)\n",
        "lis = zeroes_and_ones_of_all_words[0]\n",
        "cnt = 1\n",
        "for index in lis:\n",
        "    if index == 1:\n",
        "        files.append(files_with_index[cnt])\n",
        "    cnt = cnt+1\n",
        "    \n",
        "print(files)"
      ],
      "metadata": {
        "colab": {
          "base_uri": "https://localhost:8080/"
        },
        "id": "q8gSJGNQnfaL",
        "outputId": "e64dad27-3772-4449-d5eb-de159865b5fc"
      },
      "execution_count": 23,
      "outputs": [
        {
          "output_type": "stream",
          "name": "stdout",
          "text": [
            "Enter your query:story lies\n",
            "[]\n",
            "story\n",
            "lies\n",
            "[[1, 1, 0], [0, 1, 0]]\n",
            "[[1, 1, 0], [0, 1, 0]]\n",
            "['Greuze1.txt', 'Greuze2.txt']\n"
          ]
        }
      ]
    },
    {
      "cell_type": "markdown",
      "source": [
        "\n",
        "\n",
        "---\n",
        "\n"
      ],
      "metadata": {
        "id": "TKj1BM5vrkWE"
      }
    }
  ]
}